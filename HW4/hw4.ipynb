{
 "cells": [
  {
   "cell_type": "markdown",
   "metadata": {},
   "source": [
    "# COGS515 - Homework 4\n",
    "\n",
    "> Name Surname\n",
    "\n",
    "> Student No\n",
    "\n",
    "04/01/2020\n",
    "\n",
    "*You can import other libraries, or add more code and markblocks whenever necessary*"
   ]
  },
  {
   "cell_type": "code",
   "execution_count": 10,
   "metadata": {},
   "outputs": [],
   "source": [
    "import pandas as pd\n",
    "import numpy as np\n",
    "from sklearn.model_selection import train_test_split\n",
    "from sklearn.linear_model import LogisticRegression\n",
    "from sklearn.metrics import classification_report, confusion_matrix"
   ]
  },
  {
   "cell_type": "markdown",
   "metadata": {},
   "source": [
    "### Part 1 Logistic Regression\n",
    "1) Read the dataset.\n",
    "\n"
   ]
  },
  {
   "cell_type": "code",
   "execution_count": 11,
   "metadata": {},
   "outputs": [],
   "source": [
    "shopper = pd.read_csv('shopper.csv')"
   ]
  },
  {
   "cell_type": "markdown",
   "metadata": {},
   "source": [
    "2) Preprocess data to turn all categorical and binary variables into numerical dummy variables. "
   ]
  },
  {
   "cell_type": "code",
   "execution_count": 12,
   "metadata": {},
   "outputs": [],
   "source": [
    "month = pd.get_dummies(shopper['Month'], drop_first = True)\n",
    "visitortype = pd.get_dummies(shopper['VisitorType'], drop_first = True)"
   ]
  },
  {
   "cell_type": "code",
   "execution_count": 13,
   "metadata": {},
   "outputs": [],
   "source": [
    "shopper.drop('Month', axis = 1, inplace = True)\n",
    "shopper.drop('VisitorType', axis = 1, inplace = True)"
   ]
  },
  {
   "cell_type": "code",
   "execution_count": 14,
   "metadata": {},
   "outputs": [],
   "source": [
    "shopper = pd.concat([shopper, month, visitortype], axis = 1)"
   ]
  },
  {
   "cell_type": "markdown",
   "metadata": {},
   "source": [
    "3) Divide the dataset into training and validation sets with 60%-40% ratio"
   ]
  },
  {
   "cell_type": "code",
   "execution_count": 15,
   "metadata": {},
   "outputs": [],
   "source": [
    "x_train, x_test, y_train, y_test = train_test_split(shopper.drop(['Revenue'], axis = 1),\n",
    "                                                    shopper['Revenue'], test_size = 0.40)"
   ]
  },
  {
   "cell_type": "markdown",
   "metadata": {},
   "source": [
    "4) Generate predictions from the classifier for the validation dataset, and report its predictive performance in terms of `sensitivity` and `specificity`."
   ]
  },
  {
   "cell_type": "code",
   "execution_count": 16,
   "metadata": {},
   "outputs": [
    {
     "name": "stdout",
     "output_type": "stream",
     "text": [
      "Sensitivity:  0.39381720430107525\n",
      "Specificity:  0.9742120343839542\n"
     ]
    }
   ],
   "source": [
    "logmodel = LogisticRegression(max_iter = 10000)\n",
    "logmodel.fit(x_train, y_train)\n",
    "\n",
    "pred = logmodel.predict(x_test)\n",
    "\n",
    "tn, fp, fn, tp = confusion_matrix(y_test, pred).ravel()\n",
    "\n",
    "sensitivity = tp / (tp + fn)\n",
    "specificity = tn / (tn + fp)\n",
    "\n",
    "print(\"Sensitivity: \", sensitivity)\n",
    "print(\"Specificity: \", specificity)"
   ]
  },
  {
   "cell_type": "markdown",
   "metadata": {},
   "source": [
    "5) Train another classifier algorithm on the training dataset using scikit-learn or tensorflow and report its predictive performance in terms of sensitivity and specificity. Possible classifier algorithm are, but not limited to, decision trees, random forests, nearest-neighbors, feed forward neural networks. [Check here for the algorithms available in scikit-learn](https://scikit-learn.org/stable/index.html). You need to apply only one classifier algorithm at this stage."
   ]
  },
  {
   "cell_type": "code",
   "execution_count": 17,
   "metadata": {},
   "outputs": [],
   "source": [
    "## Using Multilayer Perceptrons for classification problem\n",
    "from sklearn.neural_network import MLPClassifier"
   ]
  },
  {
   "cell_type": "code",
   "execution_count": 18,
   "metadata": {
    "scrolled": true
   },
   "outputs": [
    {
     "name": "stdout",
     "output_type": "stream",
     "text": [
      "Sensitivity:  0.7876344086021505\n",
      "Specificity:  0.8985195797516714\n"
     ]
    }
   ],
   "source": [
    "clf = MLPClassifier(solver='lbfgs', hidden_layer_sizes=(5,5), random_state=None,\n",
    "                    activation='logistic', max_iter=20000)\n",
    "\n",
    "clf.fit(x_train, y_train)\n",
    "\n",
    "nn_pred = clf.predict(x_test)\n",
    "\n",
    "nn_tn, nn_fp, nn_fn, nn_tp = confusion_matrix(y_test, nn_pred).ravel()\n",
    "\n",
    "nn_sensitivity = nn_tp / (nn_tp + nn_fn)\n",
    "nn_specificity = nn_tn / (nn_tn + nn_fp)\n",
    "\n",
    "print(\"Sensitivity: \", nn_sensitivity)\n",
    "print(\"Specificity: \", nn_specificity)"
   ]
  },
  {
   "cell_type": "markdown",
   "metadata": {},
   "source": [
    "To eliminate the randomness from the seperation of the train & test data, the code is run 5 times. Here are the results:\n",
    "\n",
    "##### Average\n",
    "    Sensitivity: 0.7871824507990909\n",
    "    Specificity: 0.8940772535336692\n",
    "\n",
    "##### Run1\n",
    "    Sensitivity: 0.7970027247956403\n",
    "    Specificity: 0.8918532634587899\n",
    "\n",
    "##### Run2\n",
    "    Sensitivity: 0.8080110497237569\n",
    "    Specificity: 0.8833174904942965\n",
    "\n",
    "##### Run3\n",
    "    Sensitivity: 0.7480719794344473\n",
    "    Specificity: 0.9039480019258546\n",
    "\n",
    "##### Run4\n",
    "    Sensitivity: 0.7809647979139505\n",
    "    Specificity: 0.8998799519807923\n",
    "\n",
    "##### Run5\n",
    "    Sensitivity: 0.8018617021276596\n",
    "    Specificity: 0.8913875598086124"
   ]
  },
  {
   "cell_type": "code",
   "execution_count": null,
   "metadata": {},
   "outputs": [],
   "source": []
  }
 ],
 "metadata": {
  "kernelspec": {
   "display_name": "Python 3",
   "language": "python",
   "name": "python3"
  },
  "language_info": {
   "codemirror_mode": {
    "name": "ipython",
    "version": 3
   },
   "file_extension": ".py",
   "mimetype": "text/x-python",
   "name": "python",
   "nbconvert_exporter": "python",
   "pygments_lexer": "ipython3",
   "version": "3.8.3"
  }
 },
 "nbformat": 4,
 "nbformat_minor": 4
}
